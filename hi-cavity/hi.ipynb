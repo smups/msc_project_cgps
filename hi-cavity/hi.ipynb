{
 "cells": [
  {
   "attachments": {},
   "cell_type": "markdown",
   "metadata": {},
   "source": [
    "# Œuiüealæ"
   ]
  },
  {
   "cell_type": "code",
   "execution_count": 4,
   "metadata": {},
   "outputs": [],
   "source": [
    "import numpy as np"
   ]
  },
  {
   "cell_type": "code",
   "execution_count": 5,
   "metadata": {},
   "outputs": [
    {
     "data": {
      "text/plain": [
       "<matplotlib.pyplot._IoffContext at 0x2c04a2d6d40>"
      ]
     },
     "execution_count": 5,
     "metadata": {},
     "output_type": "execute_result"
    }
   ],
   "source": [
    "#Matplotlib configuration\n",
    "from matplotlib import pyplot as plt\n",
    "\n",
    "#A4 tufte layout paper figure sizes\n",
    "MARGIN_FIG = lambda scale: (1.99, 1.99*scale)\n",
    "MAIN_FIG = lambda scale: (4.18, 4.18*scale)\n",
    "FULL_FIG = lambda scale: (6.64, 6.64*scale)\n",
    "\n",
    "#Fontsize configuration\n",
    "SMALL_SIZE = 8\n",
    "MEDIUM_SIZE = 10\n",
    "BIGGER_SIZE = 12\n",
    "\n",
    "plt.rc('font', family='Fira Code')\n",
    "plt.rc('font', size=SMALL_SIZE)          # controls default text sizes\n",
    "plt.rc('axes', titlesize=SMALL_SIZE)     # fontsize of the axes title\n",
    "plt.rc('axes', labelsize=MEDIUM_SIZE)    # fontsize of the x and y labels\n",
    "plt.rc('xtick', labelsize=SMALL_SIZE)    # fontsize of the tick labels\n",
    "plt.rc('ytick', labelsize=SMALL_SIZE)    # fontsize of the tick labels\n",
    "plt.rc('legend', fontsize=SMALL_SIZE)    # legend fontsize\n",
    "plt.rc('figure', titlesize=BIGGER_SIZE)  # fontsize of the figure title\n",
    "\n",
    "\n",
    "#Other matplotlib configuration\n",
    "plt.rcParams['figure.dpi'] = 100\n",
    "plt.rcParams['figure.autolayout'] = True\n",
    "plt.rcParams['savefig.dpi'] = 300\n",
    "plt.rcParams['lines.linewidth'] = 1\n",
    "plt.rcParams['axes.linewidth'] = 1\n",
    "plt.rcParams[\"savefig.bbox\"] = 'tight'\n",
    "plt.rcParams['mathtext.fontset'] = 'custom'\n",
    "plt.rcParams['mathtext.rm'] = 'Fira Code'\n",
    "plt.rcParams['mathtext.it'] = 'Fira Code'\n",
    "plt.ioff()"
   ]
  },
  {
   "cell_type": "code",
   "execution_count": 6,
   "metadata": {},
   "outputs": [],
   "source": [
    "hii = np.genfromtxt('../tmp/hii_distr.csv', delimiter=',')\n",
    "pne = np.genfromtxt('../tmp/pne_distr.csv', delimiter=',')\n",
    "snr = np.genfromtxt('../tmp/snr_distr.csv', delimiter=',')\n",
    "tot = np.concatenate([hii, pne, snr])\n",
    "\n",
    "N_hii = len(hii)\n",
    "N_snr = 3500\n",
    "N_pne = 6600"
   ]
  },
  {
   "cell_type": "code",
   "execution_count": 7,
   "metadata": {},
   "outputs": [
    {
     "name": "stdout",
     "output_type": "stream",
     "text": [
      "[  1.           1.06050375   1.1246682    1.19271484   1.26487856\n",
      "   1.34140846   1.4225687    1.50863944   1.59991778   1.6967188\n",
      "   1.79937665   1.90824568   2.0237017    2.14614324   2.27599295\n",
      "   2.41369906   2.5597369    2.71461058   2.87885469   3.0530362\n",
      "   3.23775633   3.43365273   3.64140159   3.86172003   4.09536857\n",
      "   4.34315373   4.60593081   4.88460689   5.18014392   5.49356204\n",
      "   5.82594314   6.17843454   6.55225299   6.94868886   7.36911059\n",
      "   7.8149694    8.28780435   8.78924758   9.32103001   9.88498727\n",
      "  10.48306605  11.11733085  11.78997104  12.50330849  13.25980552\n",
      "  14.06207347  14.91288163  15.81516687  16.77204376  17.78681528\n",
      "  18.86298428  20.00426554  21.2145986   22.49816135  23.85938445\n",
      "  25.30296665  26.83389099  28.45744199  30.17922391  32.0051801\n",
      "  33.94161347  35.99520833  38.17305337  40.4826662   42.93201927\n",
      "  45.52956738  48.28427689  51.20565665  54.30379084  57.58937376\n",
      "  61.07374676  64.76893739  68.68770091  72.84356432  77.25087303\n",
      "  81.92484045  86.88160042  92.13826295  97.71297326 103.62497445\n",
      " 109.89467388 116.54371362 123.59504519 131.07300876 139.00341716\n",
      " 147.413645   156.33272314 165.79143896 175.82244253 186.46035943\n",
      " 197.74191018 209.70603704 222.39403843 235.84971147 250.11950317\n",
      " 265.25267076 281.30145172 298.3212441  316.37079772 335.51241699]\n",
      "(100,) (99,) (99,)\n"
     ]
    }
   ],
   "source": [
    "bins = np.logspace(0, np.log10(np.max(tot)), 100)\n",
    "print(bins)\n",
    "\n",
    "def bin(x, N):\n",
    "  n, _ = np.histogram(x, bins=bins)\n",
    "  n = N*n / np.sum(n)\n",
    "  #assert(N == round(np.sum(n)))\n",
    "  return n\n",
    "\n",
    "hii_binned = bin(hii, N_hii)\n",
    "pne_binned = bin(pne, N_pne)\n",
    "snr_binned = bin(snr, N_snr)\n",
    "\n",
    "print(bins.shape, hii_binned.shape, pne_binned.shape)"
   ]
  },
  {
   "cell_type": "code",
   "execution_count": 8,
   "metadata": {},
   "outputs": [
    {
     "data": {
      "text/plain": [
       "<matplotlib.legend.Legend at 0x2c0152004c0>"
      ]
     },
     "execution_count": 8,
     "metadata": {},
     "output_type": "execute_result"
    },
    {
     "data": {
      "image/png": "[encoded data removed]",
      "text/plain": [
       "<Figure size 300.96x150.48 with 1 Axes>"
      ]
     },
     "metadata": {
      "needs_background": "light"
     },
     "output_type": "display_data"
    }
   ],
   "source": [
    "plt.figure(figsize=MAIN_FIG(0.5))\n",
    "width = abs(bins[:-1] - bins[1:])\n",
    "plt.bar(bins[:-1], hii_binned, label='HII regions', color='r', align='edge', width=width)\n",
    "plt.bar(bins[:-1], pne_binned, label='Planetary Nebulæ', color='b', align='edge', width=width, bottom=snr_binned)\n",
    "plt.bar(bins[:-1], snr_binned, label='Supernova Remnants', color='g', align='edge', width=width)\n",
    "plt.yscale('log')\n",
    "plt.xscale('log')\n",
    "plt.xticks([1, 10, 100, 300], labels=['1', '10', '100', '300'])\n",
    "plt.ylim(bottom=1)\n",
    "plt.xlim(np.min(bins), np.max(bins))\n",
    "plt.xlabel('feature scale [Pc]')\n",
    "plt.ylabel('galactic count N')\n",
    "plt.legend()"
   ]
  },
  {
   "cell_type": "code",
   "execution_count": 9,
   "metadata": {},
   "outputs": [
    {
     "data": {
      "image/png": "[encoded data removed]",
      "text/plain": [
       "<Figure size 300.96x150.48 with 1 Axes>"
      ]
     },
     "metadata": {
      "needs_background": "light"
     },
     "output_type": "display_data"
    }
   ],
   "source": [
    "V=141.371669412\n",
    "hii_binned = bin(hii, N_hii/V)\n",
    "pne_binned = bin(pne, N_pne/V)\n",
    "snr_binned = bin(snr, N_snr/V)\n",
    "\n",
    "plt.figure(figsize=MAIN_FIG(0.5))\n",
    "width = abs(bins[:-1] - bins[1:])\n",
    "plt.bar(bins[:-1], hii_binned, label='HII regions', color='r', align='edge', width=width)\n",
    "plt.bar(bins[:-1], pne_binned, label='Planetary Nebulæ', color='b', align='edge', width=width, bottom=snr_binned)\n",
    "plt.bar(bins[:-1], snr_binned, label='Supernova Remnants', color='g', align='edge', width=width)\n",
    "plt.yscale('log')\n",
    "plt.xscale('log')\n",
    "plt.xticks([1, 10, 100, 300], labels=['1', '10', '100', '300'])\n",
    "plt.xlim(np.min(bins), np.max(bins))\n",
    "plt.xlabel('feature scale [Pc]')\n",
    "plt.ylabel('n=N/V [$kPc^{-3}$')\n",
    "plt.legend()\n",
    "plt.savefig('../figs/combi_histo.pdf', transparent=True, bbox_inches=\"tight\", pad_inches=0.05)"
   ]
  },
  {
   "cell_type": "code",
   "execution_count": 10,
   "metadata": {},
   "outputs": [],
   "source": [
    "# save feature scales\n",
    "distr = np.array([bins[:-1], hii_binned+pne_binned+snr_binned]).transpose()\n",
    "np.savetxt('../tmp/full_distr.csv', distr, delimiter=',')"
   ]
  }
 ],
 "metadata": {
  "kernelspec": {
   "display_name": "Python 3",
   "language": "python",
   "name": "python3"
  },
  "language_info": {
   "codemirror_mode": {
    "name": "ipython",
    "version": 3
   },
   "file_extension": ".py",
   "mimetype": "text/x-python",
   "name": "python",
   "nbconvert_exporter": "python",
   "pygments_lexer": "ipython3",
   "version": "3.10.4"
  },
  "orig_nbformat": 4,
  "vscode": {
   "interpreter": {
    "hash": "0f880213759c8c1b80cfd5e8956d57a942705e48757661db0f9d039d54f4e235"
   }
  }
 },
 "nbformat": 4,
 "nbformat_minor": 2
}
