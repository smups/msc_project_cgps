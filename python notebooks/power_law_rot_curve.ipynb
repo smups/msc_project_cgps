{
 "cells": [
  {
   "cell_type": "markdown",
   "metadata": {},
   "source": [
    "# Power-law rotation curve\n",
    "Okay dus we hebben een rotation curve die eruit ziet als:\n",
    "$$\n",
    "  \\Theta(R)=\\Theta_{\\odot}a_1\\left(\\frac{R}{R_{\\odot}}\\right)^{a_2}\n",
    "$$\n",
    "Waar $\\Theta$ de _tangential velocity_ is, niet de volledige rotational velocity.\n",
    "Deze volgt uit:\n",
    "$$\n",
    "  v(z, R)=\\sin l\\cos b\\left(\\frac{R_{\\odot}}{R}\\Theta(z,R)-\\Theta_{\\odot}\\right)\n",
    "$$\n",
    "Wij meten dus $v$ en niet direct $\\Theta$. Om $\\Theta$ uit v te vinden, gebruiken\n",
    "we:\n",
    "$$\n",
    "  \\frac{R_{\\odot}}{R}\\Theta(z,R)=\\frac{v(R,z)}{\\sin l\\cos b}+\\Theta_{\\odot}\n",
    "$$\n",
    "Dus:\n",
    "$$\n",
    "  \\left(\\frac{R}{R_{\\odot}}\\right)^{a_2-1}=\\frac{v(R,z)}{a_1\\Theta_{\\odot}\\sin l\\cos b}+\\frac{1}{a_1}\n",
    "$$\n",
    "en uiteindelijk:\n",
    "$$\n",
    "  R(v)=R_{\\odot}\\sqrt[a_2-1]{\\frac{v(R,z)}{a_1\\Theta_{\\odot}\\sin l\\cos b}+\\frac{1}{a_1}}\n",
    "$$"
   ]
  },
  {
   "cell_type": "code",
   "execution_count": 2,
   "metadata": {},
   "outputs": [],
   "source": [
    "import numpy as np"
   ]
  },
  {
   "cell_type": "code",
   "execution_count": 3,
   "metadata": {},
   "outputs": [
    {
     "data": {
      "text/plain": [
       "<contextlib.ExitStack at 0x7f00383c4350>"
      ]
     },
     "execution_count": 3,
     "metadata": {},
     "output_type": "execute_result"
    }
   ],
   "source": [
    "#Matplotlib configuration\n",
    "from matplotlib import pyplot as plt\n",
    "\n",
    "#A4 tufte layout paper figure sizes\n",
    "MARGIN_FIG = lambda scale: (1.99, 1.99*scale)\n",
    "MAIN_FIG = lambda scale: (4.18, 4.18*scale)\n",
    "FULL_FIG = lambda scale: (6.64, 6.64*scale)\n",
    "\n",
    "#Fontsize configuration\n",
    "SMALL_SIZE = 8\n",
    "MEDIUM_SIZE = 10\n",
    "BIGGER_SIZE = 12\n",
    "\n",
    "plt.rc('font', family='Fira Code')\n",
    "plt.rc('font', size=SMALL_SIZE)          # controls default text sizes\n",
    "plt.rc('axes', titlesize=SMALL_SIZE)     # fontsize of the axes title\n",
    "plt.rc('axes', labelsize=MEDIUM_SIZE)    # fontsize of the x and y labels\n",
    "plt.rc('xtick', labelsize=SMALL_SIZE)    # fontsize of the tick labels\n",
    "plt.rc('ytick', labelsize=SMALL_SIZE)    # fontsize of the tick labels\n",
    "plt.rc('legend', fontsize=SMALL_SIZE)    # legend fontsize\n",
    "plt.rc('figure', titlesize=BIGGER_SIZE)  # fontsize of the figure title\n",
    "\n",
    "\n",
    "#Other matplotlib configuration\n",
    "plt.rcParams['figure.dpi'] = 100\n",
    "plt.rcParams['figure.autolayout'] = True\n",
    "plt.rcParams['savefig.dpi'] = 300\n",
    "plt.rcParams['lines.linewidth'] = 1\n",
    "plt.rcParams['axes.linewidth'] = 1\n",
    "plt.rcParams[\"savefig.bbox\"] = 'tight'\n",
    "plt.rcParams['mathtext.fontset'] = 'custom'\n",
    "plt.rcParams['mathtext.rm'] = 'Fira Code'\n",
    "plt.rcParams['mathtext.it'] = 'Fira Code'\n",
    "plt.ioff()"
   ]
  },
  {
   "cell_type": "code",
   "execution_count": 4,
   "metadata": {},
   "outputs": [],
   "source": [
    "#position of the sun\n",
    "R0 = 8.34\n",
    "T0 = 240\n",
    "\n",
    "#line of sight\n",
    "l = 80.75 * np.pi / 180\n",
    "b = 0\n",
    "\n",
    "#rot curve parameters\n",
    "a1 = 1.022\n",
    "a2 = 0.0803\n",
    "\n",
    "def rot_curve(R):\n",
    "  return T0 * a1 * (R/R0)**a2\n",
    "def inv_rot_curve(T):\n",
    "  return R0 * (T / (T0 * a1))**(1/a2)\n",
    "def v(T, R):\n",
    "  return np.sin(l)*np.cos(b)*((R0*T/R) - T0)\n",
    "def T(v,R):\n",
    "  return (R/R0) * (v/(np.sin(l)*np.cos(b)) + T0)\n",
    "def rot_v(R):\n",
    "  return v(rot_curve(R), R)\n",
    "def inv_rot_v(v):\n",
    "  return R0 * (v / (a1*T0*np.sin(l)*np.cos(b)) + 1/a1)**(a2-1)"
   ]
  },
  {
   "cell_type": "code",
   "execution_count": 5,
   "metadata": {},
   "outputs": [
    {
     "name": "stderr",
     "output_type": "stream",
     "text": [
      "findfont: Font family ['cursive'] not found. Falling back to DejaVu Sans.\n",
      "findfont: Generic family 'cursive' not found because none of the following families were found: Apple Chancery, Textile, Zapf Chancery, Sand, Script MT, Felipa, Comic Neue, Comic Sans MS, cursive\n"
     ]
    },
    {
     "data": {
      "image/png": "[encoded data removed]",
      "text/plain": [
       "<Figure size 143.28x128.952 with 1 Axes>"
      ]
     },
     "metadata": {
      "needs_background": "light"
     },
     "output_type": "display_data"
    }
   ],
   "source": [
    "#plot basic rotation curve\n",
    "R_fake = R0*np.linspace(0, 3, 100)\n",
    "T_fake = rot_curve(R_fake)\n",
    "\n",
    "plt.figure(figsize=MARGIN_FIG(0.9))\n",
    "plt.plot(R_fake, T_fake, color='b')\n",
    "plt.ylim(0)\n",
    "plt.xlim(-0.5, 3*R0)\n",
    "\n",
    "#add lines for the sun\n",
    "plt.vlines(R0, 0, T0, linestyles='--', colors='black')\n",
    "plt.hlines(T0, -10, R0, linestyles='--', colors='black')\n",
    "plt.scatter(R0, T0, marker='.', color='black', zorder=15)\n",
    "plt.annotate('sun', (R0+3, T0-10), ha='center')\n",
    "\n",
    "#set ticks\n",
    "x_ticks = [0, R0, 2*R0, 3*R0]\n",
    "x_labels = ['0', '$R_{\\odot}$', '$2R_{\\odot}$', '$3R_{\\odot}$']\n",
    "y_ticks = [0, T0]\n",
    "y_labels = ['0', '$\\Theta_{\\odot}$']\n",
    "plt.xticks(x_ticks, labels=x_labels)\n",
    "plt.yticks(y_ticks, labels=y_labels)\n",
    "plt.savefig('../figs/abs_rotation_curve.pdf', transparent=True, bbox_inches=\"tight\", pad_inches=0)\n",
    "plt.show()"
   ]
  },
  {
   "cell_type": "code",
   "execution_count": 8,
   "metadata": {},
   "outputs": [
    {
     "name": "stdout",
     "output_type": "stream",
     "text": [
      "240.4635508098115 204.82779361355563 191.37291193235\n"
     ]
    }
   ],
   "source": [
    "#locations of the three spiral arms\n",
    "V_CYGNUS = 4.57522965e-01\n",
    "V_PERSEUS = -4.02488372e+01\n",
    "V_NORMA = -7.34834338e+01\n",
    "V_OUTER = -5.20972297e+01\n",
    "\n",
    "SIG_CYGNUS = 9.62327902e+00\n",
    "SIG_PERSEUS = 5.95626103e+00\n",
    "SIG_NORMA = 6.46930123e+00\n",
    "SIG_OUTER = 1.12561854e+01\n",
    "\n",
    "R_CYGNUS = R0\n",
    "R_PERSEUS = 8.574722418601473\n",
    "R_NORMA = 9.640986215770878\n",
    "R_OUTER = 14.5\n",
    "\n",
    "T_CYGNUS = T(V_CYGNUS, R_CYGNUS)\n",
    "T_PERSEUS = T(V_PERSEUS, R_PERSEUS)\n",
    "T_NORMA = T(V_NORMA, R_NORMA)\n",
    "T_OUTER = 306.6924310122165\n",
    "print(T_CYGNUS, T_PERSEUS, T_NORMA)\n",
    "\n",
    "N_CHANNELS = 272\n",
    "V_STEP = -0.82446\n",
    "V_REF = -60\n",
    "\n",
    "#snelheid is TOV zon\n",
    "v = np.linspace(0, V_STEP*N_CHANNELS, num=N_CHANNELS)\n",
    "v = v - (v[145] - V_REF)"
   ]
  },
  {
   "cell_type": "code",
   "execution_count": 12,
   "metadata": {},
   "outputs": [
    {
     "name": "stderr",
     "output_type": "stream",
     "text": [
      "/tmp/ipykernel_12934/4224772385.py:23: UserWarning: marker is redundantly defined by the 'marker' keyword argument and the fmt string \".\" (-> marker='.'). The keyword argument will take precedence.\n",
      "  plt.errorbar(R_OUTER, T_OUTER,\n"
     ]
    },
    {
     "data": {
      "image/png": "[encoded data removed]",
      "text/plain": [
       "<Figure size 300.96x150.48 with 1 Axes>"
      ]
     },
     "metadata": {
      "needs_background": "light"
     },
     "output_type": "display_data"
    },
    {
     "name": "stdout",
     "output_type": "stream",
     "text": [
      "rot. curve velocity perseus=245.82727966643\n",
      "rot. curve velocity norma=248.15181558924053\n"
     ]
    }
   ],
   "source": [
    "R = R0*np.linspace(0, 3, 100)\n",
    "\n",
    "plt.figure(figsize=MAIN_FIG(0.5))\n",
    "plt.plot(R, rot_curve(R), label=\"rotation curve\", linestyle='--', color='black')\n",
    "\n",
    "plt.scatter(R_CYGNUS, T_CYGNUS,\n",
    "            label=\"sun (local arm)\",\n",
    "            color='black',\n",
    "            marker='*',\n",
    "            zorder=15)\n",
    "plt.errorbar(R_PERSEUS, T_PERSEUS,\n",
    "            yerr=SIG_PERSEUS,\n",
    "            fmt='.',\n",
    "            label=\"perseus arm\",\n",
    "            color='r',\n",
    "            zorder=15)\n",
    "plt.errorbar(R_NORMA, T_NORMA,\n",
    "            yerr=SIG_NORMA,\n",
    "            fmt='.',\n",
    "            label=\"norma arm $l=80^{\\circ}45'$\",\n",
    "            color='g',\n",
    "            zorder=15)\n",
    "plt.errorbar(R_OUTER, T_OUTER,\n",
    "            yerr=SIG_OUTER,\n",
    "            fmt='.',\n",
    "            label=\"norma arm $l=130^{\\circ}$\",\n",
    "            color='b',\n",
    "            marker='x',\n",
    "            zorder=15)\n",
    "\n",
    "plt.legend(loc='lower right')\n",
    "plt.xlabel(\"galacto-centric distance in $kPc$\")\n",
    "plt.ylabel(\"$\\Theta$ in $kms^{-1}$\")\n",
    "\n",
    "plt.xlim(5, 20)\n",
    "plt.ylim(175, 325)\n",
    "plt.yticks([175,200,225,250,275,300,325])\n",
    "plt.xticks(np.arange(5,21))\n",
    "\n",
    "plt.savefig('../figs/rot_curve_with_geom.pdf', transparent=True, bbox_inches=\"tight\", pad_inches=0.05)\n",
    "plt.show()\n",
    "\n",
    "print(f\"rot. curve velocity perseus={rot_curve(R_PERSEUS)}\")\n",
    "print(f\"rot. curve velocity norma={rot_curve(R_NORMA)}\")"
   ]
  },
  {
   "cell_type": "code",
   "execution_count": 7,
   "metadata": {},
   "outputs": [
    {
     "name": "stderr",
     "output_type": "stream",
     "text": [
      "C:\\Users\\rawol\\AppData\\Local\\Temp\\ipykernel_15476\\2175633666.py:4: RuntimeWarning: invalid value encountered in sqrt\n",
      "  d = cosl*R0 + np.sqrt(R**2 -(1-cosl**2)*R0**2)\n"
     ]
    }
   ],
   "source": [
    "#aight calculate distances\n",
    "R = inv_rot_v(v)\n",
    "cosl = np.cos(l)\n",
    "d = cosl*R0 + np.sqrt(R**2 -(1-cosl**2)*R0**2)\n",
    "#set NaN channels to zero distance :3\n",
    "d[np.isnan(d)] = 0.0"
   ]
  },
  {
   "cell_type": "code",
   "execution_count": 8,
   "metadata": {},
   "outputs": [
    {
     "name": "stderr",
     "output_type": "stream",
     "text": [
      "C:\\Users\\rawol\\AppData\\Local\\Temp\\ipykernel_15476\\3721742139.py:19: UserWarning: Setting the 'color' property will override the edgecolor or facecolor properties.\n",
      "  plt.axvspan(*vr_cygnus, color='red', alpha=0.2, edgecolor=0.0)\n",
      "C:\\Users\\rawol\\AppData\\Local\\Temp\\ipykernel_15476\\3721742139.py:20: UserWarning: Setting the 'color' property will override the edgecolor or facecolor properties.\n",
      "  plt.axvspan(*vr_perseus, color='blue', alpha=0.2, edgecolor=0.0)\n",
      "C:\\Users\\rawol\\AppData\\Local\\Temp\\ipykernel_15476\\3721742139.py:21: UserWarning: Setting the 'color' property will override the edgecolor or facecolor properties.\n",
      "  plt.axvspan(*vr_norma, color='green', alpha=0.2, edgecolor=0.0)\n"
     ]
    },
    {
     "data": {
      "image/png": "[encoded data removed]",
      "text/plain": [
       "<Figure size 300.96x165.528 with 1 Axes>"
      ]
     },
     "metadata": {
      "needs_background": "light"
     },
     "output_type": "display_data"
    },
    {
     "name": "stdout",
     "output_type": "stream",
     "text": [
      "59.98783173431734 -164.26528826568267\n"
     ]
    }
   ],
   "source": [
    "SLICE_CYGNUS = np.ma.masked_where(\n",
    "  (v >= V_CYGNUS - 2*SIG_CYGNUS) & (v <= V_CYGNUS + 2*SIG_CYGNUS), v\n",
    ").mask.astype(bool)\n",
    "SLICE_PERSEUS = np.ma.masked_where(\n",
    "  (v >= V_PERSEUS - 2*SIG_PERSEUS) & (v <= V_PERSEUS + 2*SIG_PERSEUS), v\n",
    ").mask.astype(bool)\n",
    "SLICE_NORMA = np.ma.masked_where(\n",
    "  (v >= V_NORMA - 2*SIG_NORMA) & (v <= V_NORMA + 2*SIG_NORMA), v\n",
    ").mask.astype(bool)\n",
    "\n",
    "plt.figure(figsize=MAIN_FIG(0.55))\n",
    "plt.plot(v, R, linestyle='--', color='black', zorder=15, label='$R(v_{lsr})$')\n",
    "plt.plot(v, d, linestyle='-', color='black', zorder=15, label='$d(v_{lsr})$')\n",
    "\n",
    "vr_cygnus = [v[SLICE_CYGNUS][0], v[SLICE_CYGNUS][-1]]\n",
    "vr_perseus = [v[SLICE_PERSEUS][0], v[SLICE_PERSEUS][-1]]\n",
    "vr_norma = [v[SLICE_NORMA][0], v[SLICE_NORMA][-1]]\n",
    "\n",
    "plt.axvspan(*vr_cygnus, color='red', alpha=0.2, edgecolor=0.0)\n",
    "plt.axvspan(*vr_perseus, color='blue', alpha=0.2, edgecolor=0.0)\n",
    "plt.axvspan(*vr_norma, color='green', alpha=0.2, edgecolor=0.0)\n",
    "\n",
    "#add text for spiral arm spans\n",
    "plt.text(V_CYGNUS, 20, 'cygnus\\n$2\\sigma$-range', color='r', horizontalalignment='center')\n",
    "plt.text(V_PERSEUS, 15, 'perseus\\n$2\\sigma$-range', color='b', horizontalalignment='center')\n",
    "plt.text(V_NORMA, 20, 'norma\\n$2\\sigma$-range', color='g', horizontalalignment='center')\n",
    "\n",
    "#shared between axes\n",
    "plt.ylabel(\"distance in $kPc$\")\n",
    "plt.xlabel(\"lsr velocity $v_{lsr}$ in $kms^{-1}$\")\n",
    "plt.ylim(0,25)\n",
    "plt.xlim(np.min(v), np.max(v))\n",
    "\n",
    "plt.legend(loc='lower left')\n",
    "plt.savefig('../figs/rot_curve_with_arms')\n",
    "plt.show()\n",
    "\n",
    "print(np.max(v), np.min(v))"
   ]
  },
  {
   "cell_type": "code",
   "execution_count": 9,
   "metadata": {},
   "outputs": [],
   "source": [
    "#last step is to save the velocity channels\n",
    "np.savetxt(\"../tmp/distance_channels.csv\", R, delimiter=',')\n",
    "np.savetxt(\"../tmp/sun_distance_channels.csv\", d, delimiter=',')\n",
    "\n",
    "#and where each spiral arm starts/stops\n",
    "np.savetxt(\"../tmp/SLICE_CYGNUS.csv\", SLICE_CYGNUS, delimiter=',')\n",
    "np.savetxt(\"../tmp/SLICE_PERSEUS.csv\", SLICE_PERSEUS, delimiter=',')\n",
    "np.savetxt(\"../tmp/SLICE_NORMA.csv\", SLICE_NORMA, delimiter=',')"
   ]
  },
  {
   "cell_type": "code",
   "execution_count": 10,
   "metadata": {},
   "outputs": [
    {
     "name": "stdout",
     "output_type": "stream",
     "text": [
      "[ 9.57558646  9.61070206  9.64608753  9.68174604  9.71768081  9.7538951\n",
      "  9.79039224  9.82717559  9.86424859  9.90161472  9.93927752  9.97724058\n",
      " 10.01550757 10.0540822  10.09296824 10.13216953 10.17168999 10.21153357\n",
      " 10.25170431 10.29220633 10.33304378 10.37422091 10.41574205 10.45761157\n",
      " 10.49983395 10.54241372 10.58535551 10.62866402 10.67234404]\n",
      "[0.         0.         0.         0.         0.         0.\n",
      " 0.         0.         0.         0.         0.         0.\n",
      " 0.         0.         1.98969024 2.26114209 2.47091086 2.64902904\n",
      " 2.80709391 2.95103847 3.08437935 3.20940319 3.32769529 3.4404079\n",
      " 3.5484095  3.65237386 3.75283606 3.8502295  3.94491098 4.03717847\n",
      " 4.12728386 4.21544239 4.30183972 4.38663737 4.46997692 4.55198336\n",
      " 4.63276766 4.71242896 4.79105627 4.86872991 4.94552266 5.02150077\n",
      " 5.09672474 5.17125007 5.24512782 5.31840511 5.39112559]\n"
     ]
    }
   ],
   "source": [
    "print(R[SLICE_PERSEUS])\n",
    "print(d[SLICE_CYGNUS])"
   ]
  },
  {
   "cell_type": "code",
   "execution_count": 13,
   "metadata": {},
   "outputs": [
    {
     "name": "stdout",
     "output_type": "stream",
     "text": [
      "Perseus arm distance: 6.23-8.13\n",
      "Outer arm distance: 8.9-11.22\n",
      "Px min/max: 0.0/2.2\n",
      "Outer arm min:0.78, max:0.98\n",
      "Perseus arm min:0.54, max:0.71\n"
     ]
    }
   ],
   "source": [
    "#pixel size\n",
    "dl = 5e-3 * np.pi / 180\n",
    "px_size = d * dl\n",
    "\n",
    "print(f'Perseus arm distance: {round(np.min(d[SLICE_PERSEUS]), 2)}-{round(np.max(d[SLICE_PERSEUS]), 2)}')\n",
    "print(f'Outer arm distance: {round(np.min(d[SLICE_NORMA]), 2)}-{round(np.max(d[SLICE_NORMA]), 2)}')\n",
    "\n",
    "#provide pixel sizes (in Pc)\n",
    "norma_dx = px_size[SLICE_NORMA]*1000\n",
    "perseus_dx = px_size[SLICE_PERSEUS]*1000\n",
    "\n",
    "np.savetxt('../tmp/PERSEUS_DDX.csv',\n",
    "  np.array([d[SLICE_PERSEUS], np.array(perseus_dx)]).transpose(),\n",
    "  delimiter=','\n",
    ")\n",
    "\n",
    "print(f'Px min/max: {round(np.min(px_size*1000), 3)}/{round(np.max(px_size*1000), 2)}')\n",
    "print(f'Outer arm min:{round(np.min(norma_dx), 2)}, max:{round(np.max(norma_dx), 2)}')\n",
    "print(f'Perseus arm min:{round(np.min(perseus_dx), 2)}, max:{round(np.max(perseus_dx), 2)}')"
   ]
  }
 ],
 "metadata": {
  "kernelspec": {
   "display_name": "Python 3",
   "language": "python",
   "name": "python3"
  },
  "language_info": {
   "codemirror_mode": {
    "name": "ipython",
    "version": 3
   },
   "file_extension": ".py",
   "mimetype": "text/x-python",
   "name": "python",
   "nbconvert_exporter": "python",
   "pygments_lexer": "ipython3",
   "version": "3.11.1"
  },
  "orig_nbformat": 4,
  "vscode": {
   "interpreter": {
    "hash": "e7370f93d1d0cde622a1f8e1c04877d8463912d04d973331ad4851f04de6915a"
   }
  }
 },
 "nbformat": 4,
 "nbformat_minor": 2
}
