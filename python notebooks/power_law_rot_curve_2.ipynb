{
 "cells": [
  {
   "attachments": {},
   "cell_type": "markdown",
   "metadata": {},
   "source": [
    "# Power-law rotation curve"
   ]
  },
  {
   "cell_type": "code",
   "execution_count": 1,
   "metadata": {},
   "outputs": [],
   "source": [
    "import numpy as np"
   ]
  },
  {
   "cell_type": "code",
   "execution_count": 2,
   "metadata": {},
   "outputs": [
    {
     "data": {
      "text/plain": [
       "<contextlib.ExitStack at 0x7fc6a9a53250>"
      ]
     },
     "execution_count": 2,
     "metadata": {},
     "output_type": "execute_result"
    }
   ],
   "source": [
    "#Matplotlib configuration\n",
    "from matplotlib import pyplot as plt\n",
    "\n",
    "#A4 tufte layout paper figure sizes\n",
    "MARGIN_FIG = lambda scale: (1.99, 1.99*scale)\n",
    "MAIN_FIG = lambda scale: (4.18, 4.18*scale)\n",
    "FULL_FIG = lambda scale: (6.64, 6.64*scale)\n",
    "\n",
    "#Fontsize configuration\n",
    "SMALL_SIZE = 8\n",
    "MEDIUM_SIZE = 10\n",
    "BIGGER_SIZE = 12\n",
    "\n",
    "plt.rc('font', family='Fira Code')\n",
    "plt.rc('font', size=SMALL_SIZE)          # controls default text sizes\n",
    "plt.rc('axes', titlesize=SMALL_SIZE)     # fontsize of the axes title\n",
    "plt.rc('axes', labelsize=MEDIUM_SIZE)    # fontsize of the x and y labels\n",
    "plt.rc('xtick', labelsize=SMALL_SIZE)    # fontsize of the tick labels\n",
    "plt.rc('ytick', labelsize=SMALL_SIZE)    # fontsize of the tick labels\n",
    "plt.rc('legend', fontsize=SMALL_SIZE)    # legend fontsize\n",
    "plt.rc('figure', titlesize=BIGGER_SIZE)  # fontsize of the figure title\n",
    "\n",
    "\n",
    "#Other matplotlib configuration\n",
    "plt.rcParams['figure.dpi'] = 100\n",
    "plt.rcParams['figure.autolayout'] = True\n",
    "plt.rcParams['savefig.dpi'] = 300\n",
    "plt.rcParams['lines.linewidth'] = 1\n",
    "plt.rcParams['axes.linewidth'] = 1\n",
    "plt.rcParams[\"savefig.bbox\"] = 'tight'\n",
    "plt.rcParams['mathtext.fontset'] = 'custom'\n",
    "plt.rcParams['mathtext.rm'] = 'Fira Code'\n",
    "plt.rcParams['mathtext.it'] = 'Fira Code'\n",
    "plt.ioff()"
   ]
  },
  {
   "cell_type": "code",
   "execution_count": 3,
   "metadata": {},
   "outputs": [],
   "source": [
    "#position of the sun\n",
    "R0 = 8.34\n",
    "T0 = 240\n",
    "\n",
    "#line of sight\n",
    "l = 125 * np.pi / 180\n",
    "b = 0\n",
    "\n",
    "#rot curve parameters\n",
    "a1 = 1.022\n",
    "a2 = 0.0803\n",
    "\n",
    "def rot_curve(R):\n",
    "  return T0 * a1 * (R/R0)**a2\n",
    "def inv_rot_curve(T):\n",
    "  return R0 * (T / (T0 * a1))**(1/a2)\n",
    "def v(T, R):\n",
    "  return np.sin(l)*np.cos(b)*((R0*T/R) - T0)\n",
    "def T(v,R):\n",
    "  return (R/R0) * (v/(np.sin(l)*np.cos(b)) + T0)\n",
    "def rot_v(R):\n",
    "  return v(rot_curve(R), R)\n",
    "def inv_rot_v(v):\n",
    "  return R0 * (v / (a1*T0*np.sin(l)*np.cos(b)) + 1/a1)**(a2-1)"
   ]
  },
  {
   "cell_type": "code",
   "execution_count": 4,
   "metadata": {},
   "outputs": [
    {
     "name": "stdout",
     "output_type": "stream",
     "text": [
      "306.6924310122165\n"
     ]
    }
   ],
   "source": [
    "#locations of the three spiral arms\n",
    "V_LOCAL = -6.22233903e+00\n",
    "V_OUTER = -5.20972297e+01\n",
    "\n",
    "SIG_LOCAL = 6.89883893e+00\n",
    "SIG_OUTER = 1.12561854e+01\n",
    "\n",
    "R_LOCAL = R0\n",
    "R_OUTER = 14.5\n",
    "\n",
    "T_LOCAL = T(V_LOCAL, R_LOCAL)\n",
    "T_OUTER = T(V_OUTER, R_OUTER)\n",
    "\n",
    "print(T_OUTER)\n",
    "\n",
    "N_CHANNELS = 272\n",
    "V_STEP = -0.82446\n",
    "V_REF = -60\n",
    "\n",
    "#snelheid is TOV zon\n",
    "v = np.linspace(0, V_STEP*N_CHANNELS, num=N_CHANNELS)\n",
    "v = v - (v[145] - V_REF)"
   ]
  },
  {
   "cell_type": "code",
   "execution_count": 5,
   "metadata": {},
   "outputs": [
    {
     "name": "stderr",
     "output_type": "stream",
     "text": [
      "findfont: Font family ['cursive'] not found. Falling back to DejaVu Sans.\n",
      "findfont: Generic family 'cursive' not found because none of the following families were found: Apple Chancery, Textile, Zapf Chancery, Sand, Script MT, Felipa, Comic Neue, Comic Sans MS, cursive\n"
     ]
    },
    {
     "data": {
      "image/png": "[encoded data removed]",
      "text/plain": [
       "<Figure size 300.96x150.48 with 1 Axes>"
      ]
     },
     "metadata": {
      "needs_background": "light"
     },
     "output_type": "display_data"
    },
    {
     "name": "stdout",
     "output_type": "stream",
     "text": [
      "rot. curve velocity outer=256.4190897807043\n"
     ]
    }
   ],
   "source": [
    "R = R0*np.linspace(0, 3, 100)\n",
    "\n",
    "plt.figure(figsize=MAIN_FIG(0.5))\n",
    "plt.plot(R, rot_curve(R), label=\"rotation curve\", linestyle='--', color='black')\n",
    "\n",
    "plt.scatter(R_LOCAL, T_LOCAL,\n",
    "            label=\"sun (local arm)\",\n",
    "            color='r',\n",
    "            marker='.',\n",
    "            zorder=15)\n",
    "plt.errorbar(R_OUTER, T_OUTER,\n",
    "            yerr=SIG_OUTER,\n",
    "            fmt='.',\n",
    "            label=\"outer arm\",\n",
    "            color='b',\n",
    "            zorder=15)\n",
    "\n",
    "plt.legend(loc='lower right')\n",
    "plt.xlabel(\"galacto-centric distance in $kPc$\")\n",
    "plt.ylabel(\"$\\Theta$ in $kms^{-1}$\")\n",
    "\n",
    "plt.xlim(5, 20)\n",
    "plt.ylim(175, 325)\n",
    "plt.yticks([175,200,225,250,275,300,325])\n",
    "plt.xticks(np.arange(5,21))\n",
    "\n",
    "plt.savefig('../figs/rot_curve_with_geom_2.pdf', transparent=True, bbox_inches=\"tight\", pad_inches=0.05)\n",
    "plt.show()\n",
    "\n",
    "print(f\"rot. curve velocity outer={rot_curve(R_OUTER)}\")"
   ]
  },
  {
   "cell_type": "code",
   "execution_count": 6,
   "metadata": {},
   "outputs": [
    {
     "name": "stderr",
     "output_type": "stream",
     "text": [
      "/tmp/ipykernel_13950/2175633666.py:4: RuntimeWarning: invalid value encountered in sqrt\n",
      "  d = cosl*R0 + np.sqrt(R**2 -(1-cosl**2)*R0**2)\n"
     ]
    }
   ],
   "source": [
    "#aight calculate distances\n",
    "R = inv_rot_v(v)\n",
    "cosl = np.cos(l)\n",
    "d = cosl*R0 + np.sqrt(R**2 -(1-cosl**2)*R0**2)\n",
    "#set NaN channels to zero distance :3\n",
    "d[np.isnan(d)] = 0.0"
   ]
  },
  {
   "cell_type": "code",
   "execution_count": 7,
   "metadata": {},
   "outputs": [
    {
     "name": "stderr",
     "output_type": "stream",
     "text": [
      "/tmp/ipykernel_13950/2218739.py:15: UserWarning: Setting the 'color' property will override the edgecolor or facecolor properties.\n",
      "  plt.axvspan(*vr_outer, color='red', alpha=0.2, edgecolor=0.0)\n",
      "/tmp/ipykernel_13950/2218739.py:16: UserWarning: Setting the 'color' property will override the edgecolor or facecolor properties.\n",
      "  plt.axvspan(*vr_local, color='blue', alpha=0.2, edgecolor=0.0)\n"
     ]
    },
    {
     "data": {
      "image/png": "[encoded data removed]",
      "text/plain": [
       "<Figure size 300.96x165.528 with 1 Axes>"
      ]
     },
     "metadata": {
      "needs_background": "light"
     },
     "output_type": "display_data"
    },
    {
     "name": "stdout",
     "output_type": "stream",
     "text": [
      "59.98783173431734 -164.26528826568267\n"
     ]
    }
   ],
   "source": [
    "SLICE_OUTER = np.ma.masked_where(\n",
    "  (v >= V_OUTER - 2*SIG_OUTER) & (v <= V_OUTER + 2*SIG_OUTER), v\n",
    ").mask.astype(bool)\n",
    "SLICE_LOCAL = np.ma.masked_where(\n",
    "  (v >= V_LOCAL - 2*SIG_LOCAL) & (v <= V_LOCAL + 2*SIG_LOCAL), v\n",
    ").mask.astype(bool)\n",
    "\n",
    "plt.figure(figsize=MAIN_FIG(0.55))\n",
    "plt.plot(v, R, linestyle='--', color='black', zorder=15, label='$R(v_{lsr})$')\n",
    "plt.plot(v, d, linestyle='-', color='black', zorder=15, label='$d(v_{lsr})$')\n",
    "\n",
    "vr_outer = [v[SLICE_OUTER][0], v[SLICE_OUTER][-1]]\n",
    "vr_local = [v[SLICE_LOCAL][0], v[SLICE_LOCAL][-1]]\n",
    "\n",
    "plt.axvspan(*vr_outer, color='red', alpha=0.2, edgecolor=0.0)\n",
    "plt.axvspan(*vr_local, color='blue', alpha=0.2, edgecolor=0.0)\n",
    "\n",
    "#add text for spiral arm spans\n",
    "plt.text(V_LOCAL, 15, 'local\\n$2\\sigma$-range', color='b', horizontalalignment='center')\n",
    "plt.text(V_OUTER, 15, 'norma\\n$2\\sigma$-range', color='r', horizontalalignment='center')\n",
    "\n",
    "#shared between axes\n",
    "plt.ylabel(\"distance in $kPc$\")\n",
    "plt.xlabel(\"lsr velocity $v_{lsr}$ in $kms^{-1}$\")\n",
    "plt.ylim(0,25)\n",
    "plt.xlim(np.min(v), np.max(v))\n",
    "\n",
    "plt.legend(loc='lower left')\n",
    "plt.savefig('../figs/rot_curve_with_arms_2.pdf')\n",
    "plt.show()\n",
    "\n",
    "print(np.max(v), np.min(v))"
   ]
  },
  {
   "cell_type": "code",
   "execution_count": 8,
   "metadata": {},
   "outputs": [],
   "source": [
    "#last step is to save the velocity channels\n",
    "np.savetxt(\"../tmp/distance_channels_2.csv\", R, delimiter=',')\n",
    "np.savetxt(\"../tmp/sun_distance_channels_2.csv\", d, delimiter=',')\n",
    "\n",
    "#and where each spiral arm starts/stops\n",
    "np.savetxt(\"../tmp/SLICE_LOCAL.csv\", SLICE_LOCAL, delimiter=',')\n",
    "np.savetxt(\"../tmp/SLICE_OUTER.csv\", SLICE_OUTER, delimiter=',')"
   ]
  },
  {
   "cell_type": "code",
   "execution_count": 9,
   "metadata": {},
   "outputs": [
    {
     "name": "stdout",
     "output_type": "stream",
     "text": [
      "[8.23814294 8.26905393 8.300208   8.33160807 8.36325712 8.39515815\n",
      " 8.42731423 8.45972848 8.49240406 8.52534419 8.55855213 8.59203122\n",
      " 8.62578484 8.65981643 8.69412948 8.72872754 8.76361424 8.79879325\n",
      " 8.83426832 8.87004325 8.9061219  8.94250823 8.97920624 9.01622001\n",
      " 9.05355369 9.0912115  9.12919774 9.1675168  9.20617311 9.24517123\n",
      " 9.28451577 9.32421142 9.36426299]\n",
      "[2.40854383 2.47129418 2.5343918  2.59784483 2.66166151 2.72585016\n",
      " 2.79041921 2.85537717 2.92073269 2.9864945  3.05267146 3.11927257\n",
      " 3.18630692 3.25378376 3.32171246 3.39010255 3.4589637  3.52830572\n",
      " 3.5981386  3.66847249 3.73931769 3.8106847  3.88258421 3.95502706\n",
      " 4.02802433 4.10158727 4.17572736 4.25045629 4.32578597 4.40172854\n",
      " 4.4782964  4.55550215 4.6333587  4.71187919 4.79107703 4.87096593\n",
      " 4.95155989 5.03287318 5.11492041 5.19771651 5.28127672 5.36561663\n",
      " 5.45075219 5.53669971 5.62347588 5.71109776 5.79958285 5.88894902\n",
      " 5.97921461 6.07039838 6.16251955 6.25559784 6.34965342 6.444707  ]\n"
     ]
    }
   ],
   "source": [
    "print(R[SLICE_LOCAL])\n",
    "print(d[SLICE_OUTER])"
   ]
  }
 ],
 "metadata": {
  "kernelspec": {
   "display_name": "Python 3",
   "language": "python",
   "name": "python3"
  },
  "language_info": {
   "codemirror_mode": {
    "name": "ipython",
    "version": 3
   },
   "file_extension": ".py",
   "mimetype": "text/x-python",
   "name": "python",
   "nbconvert_exporter": "python",
   "pygments_lexer": "ipython3",
   "version": "3.11.1"
  },
  "orig_nbformat": 4,
  "vscode": {
   "interpreter": {
    "hash": "e7370f93d1d0cde622a1f8e1c04877d8463912d04d973331ad4851f04de6915a"
   }
  }
 },
 "nbformat": 4,
 "nbformat_minor": 2
}
