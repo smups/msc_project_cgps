{
 "cells": [
  {
   "cell_type": "code",
   "execution_count": 3,
   "metadata": {},
   "outputs": [
    {
     "data": {
      "text/plain": [
       "<contextlib.ExitStack at 0x7f2bef760690>"
      ]
     },
     "execution_count": 3,
     "metadata": {},
     "output_type": "execute_result"
    }
   ],
   "source": [
    "import numpy as np\n",
    "from astropy.io import fits\n",
    "from scipy import signal\n",
    "from matplotlib import pyplot as plt\n",
    "\n",
    "# matplotlib configuration\n",
    "plt.rcParams['figure.dpi'] = 100\n",
    "plt.rcParams['figure.autolayout'] = True\n",
    "plt.rcParams['savefig.dpi'] = 300\n",
    "plt.rcParams['axes.labelsize'] = 12\n",
    "plt.rcParams['axes.titlesize'] = 12\n",
    "plt.rcParams['lines.linewidth'] = 1\n",
    "plt.rcParams['axes.linewidth'] = 1\n",
    "plt.rcParams['legend.fontsize'] = 10\n",
    "plt.rcParams[\"savefig.bbox\"] = 'tight'\n",
    "plt.rcParams['savefig.pad_inches'] = 0.3\n",
    "plt.rcParams['font.family'] = 'Fira Code'\n",
    "plt.rcParams['mathtext.fontset'] = 'custom'\n",
    "plt.rcParams['mathtext.rm'] = 'Fira Code'\n",
    "plt.rcParams['mathtext.it'] = 'Fira Code'\n",
    "plt.ioff()"
   ]
  },
  {
   "cell_type": "code",
   "execution_count": 4,
   "metadata": {},
   "outputs": [],
   "source": [
    "#important global constants\n",
    "global R0, T0, l, b, dl\n",
    "\n",
    "#position of the sun\n",
    "R0 = 8.34\n",
    "T0 = 240\n",
    "\n",
    "#line of sight\n",
    "l = 80.75 * np.pi / 180\n",
    "b = 0\n",
    "\n",
    "#pixel size\n",
    "dl = 5e-3 * np.pi / 180"
   ]
  },
  {
   "cell_type": "code",
   "execution_count": 24,
   "metadata": {},
   "outputs": [],
   "source": [
    "def slice_image_cube(slice_name):\n",
    "  slice = np.loadtxt(slice_name, delimiter=',', dtype=float).astype(int).astype(bool)\n",
    "  \n",
    "  R = np.loadtxt('distance_channels.csv', delimiter=',', dtype=float)[slice]\n",
    "  img = fits.open('full_cube.fits')[0].data[slice]\n",
    "  print(img.shape)\n",
    "  \n",
    "  #calc distance to image and pixel size\n",
    "  cosl = np.cos(l)\n",
    "  d = R0*cosl + np.sqrt(\n",
    "    (cosl*R0)**2\n",
    "    + R**2\n",
    "    - R0**2\n",
    "  )\n",
    "  dx = d * dl\n",
    "  \n",
    "  #return iterator\n",
    "  return img, d, dx\n",
    "\n",
    "def over_sample(img, d, dx):\n",
    "  sample_dx = np.min(dx) / 2\n",
    "  xs, ys, zs = np.round([\n",
    "    np.max(dx*img.shape[2]),\n",
    "    np.max(dx*img.shape[1]),\n",
    "    np.max(d) - np.min(d)\n",
    "   ] / sample_dx).astype(int)\n",
    "  print(xs, ys, zs)\n",
    "  print(f'cube size: {xs*ys*zs//1_000_000_000} = {xs*ys*zs*64//1_000_000_000}')\n",
    "  #big_cube = np.zeros(xs), int(ys), zs) // sample_dx)"
   ]
  },
  {
   "cell_type": "code",
   "execution_count": 25,
   "metadata": {},
   "outputs": [
    {
     "name": "stdout",
     "output_type": "stream",
     "text": [
      "(22, 1000, 2250)\n",
      "5527 2456 5228\n",
      "cube size: 70 = 4541\n"
     ]
    }
   ],
   "source": [
    "over_sample(*slice_image_cube('SLICE_PERSEUS.csv'))"
   ]
  }
 ],
 "metadata": {
  "kernelspec": {
   "display_name": "Python 3.11.0rc2 64-bit",
   "language": "python",
   "name": "python3"
  },
  "language_info": {
   "codemirror_mode": {
    "name": "ipython",
    "version": 3
   },
   "file_extension": ".py",
   "mimetype": "text/x-python",
   "name": "python",
   "nbconvert_exporter": "python",
   "pygments_lexer": "ipython3",
   "version": "3.11.0"
  },
  "orig_nbformat": 4,
  "vscode": {
   "interpreter": {
    "hash": "e7370f93d1d0cde622a1f8e1c04877d8463912d04d973331ad4851f04de6915a"
   }
  }
 },
 "nbformat": 4,
 "nbformat_minor": 2
}
