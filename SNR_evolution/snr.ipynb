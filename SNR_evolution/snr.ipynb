{
 "cells": [
  {
   "attachments": {},
   "cell_type": "markdown",
   "metadata": {},
   "source": [
    "# Dit notebook volgt de uitdijingsgeschiedenis van een supernovarestant"
   ]
  },
  {
   "cell_type": "code",
   "execution_count": 1,
   "metadata": {},
   "outputs": [],
   "source": [
    "import numpy as np"
   ]
  },
  {
   "cell_type": "code",
   "execution_count": 2,
   "metadata": {},
   "outputs": [
    {
     "data": {
      "text/plain": [
       "<matplotlib.pyplot._IoffContext at 0x17343037d30>"
      ]
     },
     "execution_count": 2,
     "metadata": {},
     "output_type": "execute_result"
    }
   ],
   "source": [
    "#Matplotlib configuration\n",
    "from matplotlib import pyplot as plt\n",
    "\n",
    "#A4 tufte layout paper figure sizes\n",
    "MARGIN_FIG = lambda scale: (1.99, 1.99*scale)\n",
    "MAIN_FIG = lambda scale: (4.18, 4.18*scale)\n",
    "FULL_FIG = lambda scale: (6.64, 6.64*scale)\n",
    "\n",
    "#Fontsize configuration\n",
    "SMALL_SIZE = 8\n",
    "MEDIUM_SIZE = 10\n",
    "BIGGER_SIZE = 12\n",
    "\n",
    "plt.rc('font', family='Fira Code')\n",
    "plt.rc('font', size=SMALL_SIZE)          # controls default text sizes\n",
    "plt.rc('axes', titlesize=SMALL_SIZE)     # fontsize of the axes title\n",
    "plt.rc('axes', labelsize=MEDIUM_SIZE)    # fontsize of the x and y labels\n",
    "plt.rc('xtick', labelsize=SMALL_SIZE)    # fontsize of the tick labels\n",
    "plt.rc('ytick', labelsize=SMALL_SIZE)    # fontsize of the tick labels\n",
    "plt.rc('legend', fontsize=SMALL_SIZE)    # legend fontsize\n",
    "plt.rc('figure', titlesize=BIGGER_SIZE)  # fontsize of the figure title\n",
    "\n",
    "\n",
    "#Other matplotlib configuration\n",
    "plt.rcParams['figure.dpi'] = 100\n",
    "plt.rcParams['figure.autolayout'] = True\n",
    "plt.rcParams['savefig.dpi'] = 300\n",
    "plt.rcParams['lines.linewidth'] = 1\n",
    "plt.rcParams['axes.linewidth'] = 1\n",
    "plt.rcParams[\"savefig.bbox\"] = 'tight'\n",
    "plt.rcParams['mathtext.fontset'] = 'custom'\n",
    "plt.rcParams['mathtext.rm'] = 'Fira Code'\n",
    "plt.rcParams['mathtext.it'] = 'Fira Code'\n",
    "plt.ioff()"
   ]
  },
  {
   "cell_type": "code",
   "execution_count": 3,
   "metadata": {},
   "outputs": [
    {
     "data": {
      "text/plain": [
       "<Figure size 300.96x150.48 with 0 Axes>"
      ]
     },
     "metadata": {},
     "output_type": "display_data"
    },
    {
     "data": {
      "image/png": "[encoded data removed]",
      "text/plain": [
       "<Figure size 300.96x150.48 with 1 Axes>"
      ]
     },
     "metadata": {
      "needs_background": "light"
     },
     "output_type": "display_data"
    }
   ],
   "source": [
    "#calculate times and radii\n",
    "M_ej=1.4\n",
    "n0 = 1\n",
    "t1 = 186 * M_ej**(5/6) * n0**(-1/3)\n",
    "R1 = 1.91 * M_ej**(1/3)\n",
    "t2 = 49.3e3 * n0**(-0.55)\n",
    "R2 = 24 * n0**(-0.42)\n",
    "t3 = 1.87e6*n0**(-0.37)\n",
    "R3 = 67 * n0**(-0.37)\n",
    "\n",
    "def expansion(t):  \n",
    "  R = R1*t/t1\n",
    "  R[np.where(t >= t1)] = R1 + (R2-R1)*((t[np.where(t >= t1)] - t1)/(t2 - t1))**(2/5)\n",
    "  R[np.where(t >= t2)] = R2 + (R3-R2)*((t[np.where(t >= t2)] - t2)/(t3 - t2))**(2/7)\n",
    "  R[np.where(t >= t3)] = R3\n",
    "  return R\n",
    "\n",
    "t = np.linspace(0, t3*10, 10000000)\n",
    "\n",
    "plt.figure(figsize=MAIN_FIG(0.5))\n",
    "plt.figure(figsize=MAIN_FIG(0.5))\n",
    "plt.plot(t, expansion(t), color='b')\n",
    "\n",
    "plt.axvline(t1, color='black', linestyle='--')\n",
    "plt.text(t1+50, 20, '$t_1$')\n",
    "plt.axvline(t2, color='black', linestyle='--')\n",
    "plt.text(t2+1000, 20, '$t_{rad}$')\n",
    "plt.axvline(t3, color='black', linestyle='--')\n",
    "plt.text(t3+100000, 20, '$t_{SNR}$')\n",
    "\n",
    "plt.xscale('log')\n",
    "plt.ylabel('SNR radius [Pc]')\n",
    "plt.xlabel('time [yr]')\n",
    "plt.savefig('../figs/snr_evolution.pdf', transparent=True, bbox_inches=\"tight\", pad_inches=0.05)\n",
    "plt.show()"
   ]
  },
  {
   "cell_type": "code",
   "execution_count": 4,
   "metadata": {},
   "outputs": [
    {
     "data": {
      "image/png": "[encoded data removed]",
      "text/plain": [
       "<Figure size 300.96x150.48 with 1 Axes>"
      ]
     },
     "metadata": {
      "needs_background": "light"
     },
     "output_type": "display_data"
    }
   ],
   "source": [
    "R = expansion(t)\n",
    "n, bins = np.histogram(R, bins=20)\n",
    "width = bins[1] - bins[0]\n",
    "norm = 3500/np.sum(n)\n",
    "\n",
    "linear = np.histogram(R[np.ma.masked_where(t <= t1, R).mask], bins)[0]*norm\n",
    "sedov = np.histogram(R[np.ma.masked_where((t > t1) & (t <= t2), R).mask], bins)[0]*norm\n",
    "rad = np.histogram(R[np.ma.masked_where((t > t2) & (t <= t3), R).mask], bins)[0]*norm\n",
    "fade = np.histogram(R[np.ma.masked_where(t > t3, R).mask], bins)[0]*norm\n",
    "\n",
    "plt.figure(figsize=MAIN_FIG(0.5))\n",
    "plt.bar(bins[:-1], linear, color='b', width=width, align='edge', label='Free expansion phase')\n",
    "plt.bar(bins[:-1], sedov, color='r', bottom=linear, width=width, align='edge', label='Sedov phase')\n",
    "plt.bar(bins[:-1], rad, color='g', bottom=linear+sedov, width=width, align='edge', label='Snowplough phase')\n",
    "plt.bar(bins[:-1], fade, color='gold', bottom=linear+sedov+rad, width=width, align='edge', label='Fadeaway phase')\n",
    "plt.xlabel('SNR radius [Pc]')\n",
    "plt.text(10, 10, '$N_{tot}=3500$')\n",
    "plt.yscale('log')\n",
    "plt.ylabel('count')\n",
    "plt.ylim(bottom=1)\n",
    "plt.legend()\n",
    "plt.xlim(np.min(bins), np.max(bins))\n",
    "plt.savefig('../figs/snr_histo.pdf', transparent=True, bbox_inches=\"tight\", pad_inches=0.05)"
   ]
  },
  {
   "cell_type": "code",
   "execution_count": 5,
   "metadata": {},
   "outputs": [],
   "source": [
    "#save and stuff\n",
    "np.savetxt('../tmp/snr_distr.csv', R)"
   ]
  }
 ],
 "metadata": {
  "kernelspec": {
   "display_name": "Python 3",
   "language": "python",
   "name": "python3"
  },
  "language_info": {
   "codemirror_mode": {
    "name": "ipython",
    "version": 3
   },
   "file_extension": ".py",
   "mimetype": "text/x-python",
   "name": "python",
   "nbconvert_exporter": "python",
   "pygments_lexer": "ipython3",
   "version": "3.10.4"
  },
  "orig_nbformat": 4,
  "vscode": {
   "interpreter": {
    "hash": "0f880213759c8c1b80cfd5e8956d57a942705e48757661db0f9d039d54f4e235"
   }
  }
 },
 "nbformat": 4,
 "nbformat_minor": 2
}
