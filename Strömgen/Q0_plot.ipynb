{
 "cells": [
  {
   "attachments": {},
   "cell_type": "markdown",
   "metadata": {},
   "source": [
    "# Make fancy plot of luminosity of O-type stars"
   ]
  },
  {
   "cell_type": "code",
   "execution_count": 1,
   "metadata": {},
   "outputs": [],
   "source": [
    "import numpy as np"
   ]
  },
  {
   "cell_type": "code",
   "execution_count": 2,
   "metadata": {},
   "outputs": [
    {
     "data": {
      "text/plain": [
       "<matplotlib.pyplot._IoffContext at 0x160ec173d30>"
      ]
     },
     "execution_count": 2,
     "metadata": {},
     "output_type": "execute_result"
    }
   ],
   "source": [
    "#Matplotlib configuration\n",
    "from matplotlib import pyplot as plt\n",
    "\n",
    "#A4 tufte layout paper figure sizes\n",
    "MARGIN_FIG = lambda scale: (1.99, 1.99*scale)\n",
    "MAIN_FIG = lambda scale: (4.18, 4.18*scale)\n",
    "FULL_FIG = lambda scale: (6.64, 6.64*scale)\n",
    "\n",
    "#Fontsize configuration\n",
    "SMALL_SIZE = 8\n",
    "MEDIUM_SIZE = 10\n",
    "BIGGER_SIZE = 12\n",
    "\n",
    "plt.rc('font', family='Fira Code')\n",
    "plt.rc('font', size=SMALL_SIZE)          # controls default text sizes\n",
    "plt.rc('axes', titlesize=SMALL_SIZE)     # fontsize of the axes title\n",
    "plt.rc('axes', labelsize=MEDIUM_SIZE)    # fontsize of the x and y labels\n",
    "plt.rc('xtick', labelsize=SMALL_SIZE)    # fontsize of the tick labels\n",
    "plt.rc('ytick', labelsize=SMALL_SIZE)    # fontsize of the tick labels\n",
    "plt.rc('legend', fontsize=SMALL_SIZE)    # legend fontsize\n",
    "plt.rc('figure', titlesize=BIGGER_SIZE)  # fontsize of the figure title\n",
    "\n",
    "\n",
    "#Other matplotlib configuration\n",
    "plt.rcParams['figure.dpi'] = 100\n",
    "plt.rcParams['figure.autolayout'] = True\n",
    "plt.rcParams['savefig.dpi'] = 300\n",
    "plt.rcParams['lines.linewidth'] = 1\n",
    "plt.rcParams['axes.linewidth'] = 1\n",
    "plt.rcParams[\"savefig.bbox\"] = 'tight'\n",
    "plt.rcParams['mathtext.fontset'] = 'custom'\n",
    "plt.rcParams['mathtext.rm'] = 'Fira Code'\n",
    "plt.rcParams['mathtext.it'] = 'Fira Code'\n",
    "plt.ioff()"
   ]
  },
  {
   "cell_type": "code",
   "execution_count": 3,
   "metadata": {},
   "outputs": [
    {
     "data": {
      "image/png": "[encoded data removed]",
      "text/plain": [
       "<Figure size 300.96x150.48 with 1 Axes>"
      ]
     },
     "metadata": {
      "needs_background": "light"
     },
     "output_type": "display_data"
    }
   ],
   "source": [
    "classI = np.genfromtxt('./class_I.csv', delimiter=',')\n",
    "classIII = np.genfromtxt('./class_III.csv', delimiter=',')\n",
    "classV = np.genfromtxt('./class_V.csv', delimiter=',')\n",
    "\n",
    "T_idx = 1\n",
    "Q0_idx = -2\n",
    "\n",
    "plt.figure(figsize=MAIN_FIG(0.5))\n",
    "plt.scatter(classI[:,Q0_idx], classI[:,T_idx], color='r', label='Class I', marker='D')\n",
    "plt.scatter(classIII[:,Q0_idx], classIII[:,T_idx], color='g', label='Class III', marker='o')\n",
    "plt.scatter(classV[:,Q0_idx], classV[:,T_idx], color='b', label='Class V', marker='s')\n",
    "plt.legend()\n",
    "plt.xlabel('$\\log{Q_0}$ [$s^{-1}$]')\n",
    "plt.ylabel('$T_{eff}$ [kK]')\n",
    "plt.savefig('../figs/Q0_curve.pdf', transparent=True, bbox_inches=\"tight\", pad_inches=0.05)\n",
    "plt.show()"
   ]
  },
  {
   "cell_type": "code",
   "execution_count": 4,
   "metadata": {},
   "outputs": [],
   "source": [
    "def calc_Rs(Q0):\n",
    "  N = 0.3 / 100\n",
    "  Q = 10**(Q0 / 49)\n",
    "  return 3.2 * (Q**(1/3)) * (N**(-2/3))"
   ]
  },
  {
   "cell_type": "code",
   "execution_count": 5,
   "metadata": {},
   "outputs": [
    {
     "data": {
      "image/png": "[encoded data removed]",
      "text/plain": [
       "<Figure size 300.96x150.48 with 1 Axes>"
      ]
     },
     "metadata": {
      "needs_background": "light"
     },
     "output_type": "display_data"
    }
   ],
   "source": [
    "plt.figure(figsize=MAIN_FIG(0.5))\n",
    "plt.scatter(classV[:,Q0_idx], calc_Rs(classV[:,Q0_idx]),\n",
    "            color='b', label='Class V', marker='s', linewidths=0.1)\n",
    "plt.scatter(classI[:,Q0_idx], calc_Rs(classI[:,Q0_idx]),\n",
    "            color='r', label='Class I', marker='D', linewidths=0.1)\n",
    "plt.scatter(classIII[:,Q0_idx], calc_Rs(classIII[:,Q0_idx]),\n",
    "            color='g', label='Class III', marker='o', linewidths=0.1)\n",
    "plt.legend()\n",
    "plt.xlabel('$\\log{Q_0}$ [$s^{-1}$]')\n",
    "plt.ylabel('$R_s$ [Pc]')\n",
    "plt.savefig('../figs/Rs_curve.pdf', transparent=True, bbox_inches=\"tight\", pad_inches=0.05)\n",
    "plt.show()"
   ]
  },
  {
   "attachments": {},
   "cell_type": "markdown",
   "metadata": {},
   "source": [
    "# Nu de straal vs number\n",
    "deze kunnen we vinden met het aantal O-type sterren in de melkweg"
   ]
  },
  {
   "cell_type": "code",
   "execution_count": 6,
   "metadata": {},
   "outputs": [
    {
     "data": {
      "image/png": "[encoded data removed]",
      "text/plain": [
       "<Figure size 300.96x150.48 with 1 Axes>"
      ]
     },
     "metadata": {
      "needs_background": "light"
     },
     "output_type": "display_data"
    }
   ],
   "source": [
    "RsV, RsI, RsIII = calc_Rs(classV[:,Q0_idx]), calc_Rs(classI[:,Q0_idx]), calc_Rs(classIII[:,Q0_idx])\n",
    "bins = 10\n",
    "plt.figure(figsize=MAIN_FIG(0.5))\n",
    "n, bins, _ = plt.hist([RsV, RsI, RsIII],\n",
    "        stacked=True,\n",
    "        bins=bins,\n",
    "        color=['b', 'r', 'g'],\n",
    "        label=['Class V', 'Class I', 'Class III']\n",
    ")\n",
    "plt.legend()\n",
    "plt.xlabel('Strömgen radius $R_s$ [Pc]')\n",
    "plt.ylabel('Count')\n",
    "plt.xlim(np.min(bins), np.max(bins))\n",
    "plt.xticks(np.round(bins[:-1]))\n",
    "plt.savefig('../figs/Rs_class_bin.pdf', transparent=True, bbox_inches=\"tight\", pad_inches=0.05)\n",
    "plt.show()"
   ]
  },
  {
   "cell_type": "code",
   "execution_count": 7,
   "metadata": {},
   "outputs": [
    {
     "data": {
      "image/png": "[encoded data removed]",
      "text/plain": [
       "<Figure size 300.96x150.48 with 1 Axes>"
      ]
     },
     "metadata": {
      "needs_background": "light"
     },
     "output_type": "display_data"
    }
   ],
   "source": [
    "plt.figure(figsize=MAIN_FIG(0.5))\n",
    "width = bins[1] - bins[0]\n",
    "plt.bar(bins[:-1], n[0], label='Class IV to V', color='b', width=width, align='edge')\n",
    "plt.bar(bins[:-1], n[1], label='Class Ia to Ib-II', color='r', width=width, align='edge', bottom=n[0])\n",
    "plt.bar(bins[:-1], n[2], label='Class II to III', color='g', width=width, align='edge', bottom=(n[0]+n[1]))\n",
    "plt.legend()\n",
    "plt.xlabel('Strömgen radius $R_s$ [Pc]')\n",
    "plt.ylabel('Galactic Count')\n",
    "plt.xlim(326, 336)\n",
    "plt.xticks(np.arange(326, 337))\n",
    "plt.savefig('../figs/Rs_number_bin.pdf', transparent=True, bbox_inches=\"tight\", pad_inches=0.05)\n",
    "plt.show()"
   ]
  },
  {
   "cell_type": "code",
   "execution_count": 8,
   "metadata": {},
   "outputs": [
    {
     "data": {
      "image/png": "[encoded data removed]",
      "text/plain": [
       "<Figure size 478.08x143.424 with 2 Axes>"
      ]
     },
     "execution_count": 8,
     "metadata": {},
     "output_type": "execute_result"
    },
    {
     "data": {
      "image/png": "[encoded data removed]",
      "text/plain": [
       "<Figure size 478.08x143.424 with 2 Axes>"
      ]
     },
     "metadata": {
      "needs_background": "light"
     },
     "output_type": "display_data"
    }
   ],
   "source": [
    "fig = plt.figure(figsize=FULL_FIG(0.3))\n",
    "ax1, ax2 = fig.subplots(1, 2)\n",
    "ax1.hist([RsV, RsI, RsIII],\n",
    "        stacked=True,\n",
    "        bins=bins,\n",
    "        color=['b', 'r', 'g'],\n",
    "        label=['Class V', 'Class I', 'Class III']\n",
    ")\n",
    "ax1.set_xlabel('Strömgen radius $R_s$ [Pc]')\n",
    "ax1.set_ylabel('Count')\n",
    "ax1.set_xlim(np.min(bins), np.max(bins))\n",
    "ax1.set_xticks(np.round(bins[:-1]))\n",
    "\n",
    "width = bins[1] - bins[0]\n",
    "ax2.bar(bins[:-1], n[0], label='Class IV to V', color='b', width=width, align='edge')\n",
    "ax2.bar(bins[:-1], n[1], label='Class Ia to Ib-II', color='r', width=width, align='edge', bottom=n[0])\n",
    "ax2.bar(bins[:-1], n[2], label='Class II to III', color='g', width=width, align='edge', bottom=(n[0]+n[1]))\n",
    "ax2.set_xlabel('Strömgen radius $R_s$ [Pc]')\n",
    "ax2.set_ylabel('Galactic Count')\n",
    "ax2.set_xlim(np.min(bins), np.max(bins))\n",
    "ax2.set_xticks(np.round(bins[:-1]))\n",
    "\n",
    "handles, labels = ax2.get_legend_handles_labels()\n",
    "fig.legend(handles, labels, loc=(0.15,0), ncol=3, frameon=False)\n",
    "\n",
    "fig.savefig('../figs/Rs_combiplot.pdf', transparent=True, bbox_inches=\"tight\", pad_inches=0.05)\n",
    "fig"
   ]
  },
  {
   "cell_type": "code",
   "execution_count": 9,
   "metadata": {},
   "outputs": [],
   "source": [
    "#save data\n",
    "np.savetxt('../tmp/hii_distr.csv', np.concatenate([RsI, RsIII, RsV]))"
   ]
  }
 ],
 "metadata": {
  "kernelspec": {
   "display_name": "Python 3",
   "language": "python",
   "name": "python3"
  },
  "language_info": {
   "codemirror_mode": {
    "name": "ipython",
    "version": 3
   },
   "file_extension": ".py",
   "mimetype": "text/x-python",
   "name": "python",
   "nbconvert_exporter": "python",
   "pygments_lexer": "ipython3",
   "version": "3.10.4"
  },
  "orig_nbformat": 4,
  "vscode": {
   "interpreter": {
    "hash": "0f880213759c8c1b80cfd5e8956d57a942705e48757661db0f9d039d54f4e235"
   }
  }
 },
 "nbformat": 4,
 "nbformat_minor": 2
}
