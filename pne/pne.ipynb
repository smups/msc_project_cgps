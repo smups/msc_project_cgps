{
 "cells": [
  {
   "attachments": {},
   "cell_type": "markdown",
   "metadata": {},
   "source": [
    "# Planetaire nevels enzo"
   ]
  },
  {
   "cell_type": "code",
   "execution_count": 1,
   "metadata": {},
   "outputs": [],
   "source": [
    "import numpy as np"
   ]
  },
  {
   "cell_type": "code",
   "execution_count": 2,
   "metadata": {},
   "outputs": [
    {
     "data": {
      "text/plain": [
       "<matplotlib.pyplot._IoffContext at 0x11b5dc77d30>"
      ]
     },
     "execution_count": 2,
     "metadata": {},
     "output_type": "execute_result"
    }
   ],
   "source": [
    "#Matplotlib configuration\n",
    "from matplotlib import pyplot as plt\n",
    "\n",
    "#A4 tufte layout paper figure sizes\n",
    "MARGIN_FIG = lambda scale: (1.99, 1.99*scale)\n",
    "MAIN_FIG = lambda scale: (4.18, 4.18*scale)\n",
    "FULL_FIG = lambda scale: (6.64, 6.64*scale)\n",
    "\n",
    "#Fontsize configuration\n",
    "SMALL_SIZE = 8\n",
    "MEDIUM_SIZE = 10\n",
    "BIGGER_SIZE = 12\n",
    "\n",
    "plt.rc('font', family='Fira Code')\n",
    "plt.rc('font', size=SMALL_SIZE)          # controls default text sizes\n",
    "plt.rc('axes', titlesize=SMALL_SIZE)     # fontsize of the axes title\n",
    "plt.rc('axes', labelsize=MEDIUM_SIZE)    # fontsize of the x and y labels\n",
    "plt.rc('xtick', labelsize=SMALL_SIZE)    # fontsize of the tick labels\n",
    "plt.rc('ytick', labelsize=SMALL_SIZE)    # fontsize of the tick labels\n",
    "plt.rc('legend', fontsize=SMALL_SIZE)    # legend fontsize\n",
    "plt.rc('figure', titlesize=BIGGER_SIZE)  # fontsize of the figure title\n",
    "\n",
    "\n",
    "#Other matplotlib configuration\n",
    "plt.rcParams['figure.dpi'] = 100\n",
    "plt.rcParams['figure.autolayout'] = True\n",
    "plt.rcParams['savefig.dpi'] = 300\n",
    "plt.rcParams['lines.linewidth'] = 1\n",
    "plt.rcParams['axes.linewidth'] = 1\n",
    "plt.rcParams[\"savefig.bbox\"] = 'tight'\n",
    "plt.rcParams['mathtext.fontset'] = 'custom'\n",
    "plt.rcParams['mathtext.rm'] = 'Fira Code'\n",
    "plt.rcParams['mathtext.it'] = 'Fira Code'\n",
    "plt.ioff()"
   ]
  },
  {
   "cell_type": "code",
   "execution_count": 3,
   "metadata": {},
   "outputs": [
    {
     "name": "stdout",
     "output_type": "stream",
     "text": [
      "6600.0\n"
     ]
    },
    {
     "data": {
      "image/png": "[encoded data removed]",
      "text/plain": [
       "<Figure size 300.96x150.48 with 1 Axes>"
      ]
     },
     "metadata": {
      "needs_background": "light"
     },
     "output_type": "display_data"
    }
   ],
   "source": [
    "data = np.genfromtxt('./tab.csv', delimiter='|')\n",
    "n, bins = np.histogram(10**data[:,7], bins=100)\n",
    "n = 6600 * n / np.sum(n)\n",
    "print(np.sum(n))\n",
    "\n",
    "plt.figure(figsize=MAIN_FIG(0.5))\n",
    "plt.bar(bins[:-1], n, align='edge', color='b', width=n[0]-n[1])\n",
    "plt.ylim(bottom=1)\n",
    "plt.xlim(np.min(bins), np.max(bins))\n",
    "plt.yticks([0,200,400,600,800])\n",
    "plt.xticks([0, 0.5, 1, 1.5, 2, np.max(bins)])\n",
    "plt.text(1.0, 400, '$N_{tot}=6600$')\n",
    "plt.xlabel('Radius in Pc')\n",
    "plt.ylabel('Count')\n",
    "plt.savefig('../figs/pne_histo.pdf', transparent=True, bbox_inches=\"tight\", pad_inches=0.05)"
   ]
  },
  {
   "cell_type": "code",
   "execution_count": 4,
   "metadata": {},
   "outputs": [],
   "source": [
    "#save and stuff\n",
    "np.savetxt('../tmp/pne_distr.csv', 10**data[:,7])"
   ]
  }
 ],
 "metadata": {
  "kernelspec": {
   "display_name": "Python 3",
   "language": "python",
   "name": "python3"
  },
  "language_info": {
   "codemirror_mode": {
    "name": "ipython",
    "version": 3
   },
   "file_extension": ".py",
   "mimetype": "text/x-python",
   "name": "python",
   "nbconvert_exporter": "python",
   "pygments_lexer": "ipython3",
   "version": "3.10.4"
  },
  "orig_nbformat": 4,
  "vscode": {
   "interpreter": {
    "hash": "0f880213759c8c1b80cfd5e8956d57a942705e48757661db0f9d039d54f4e235"
   }
  }
 },
 "nbformat": 4,
 "nbformat_minor": 2
}
